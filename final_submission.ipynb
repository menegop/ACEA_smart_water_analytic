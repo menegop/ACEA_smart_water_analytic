{
  "cells":[
    {
      "cell_type":"markdown",
      "source":[
        "# Abstract\n",
        "\n",
        "- Ci limitiamo unicamente alle falde acquifere\n",
        "-\n",
        "##  1) Contesto:\n",
        "\n",
        "Oggi è il giorno 0. Conosco l'altezza del pozzo, temperature e piogge degli ultimi k giorni (k_pozzo=0, k_piogge=2, k_temp=0). Attraverso previsioni meteo posso predire piogge e temperature dei prossimi d giorni. Voglio determinare l'altezza\n",
        "del pozzo tra d giorni.\n",
        "\n",
        "Obiettivi, richieste:\n",
        "- determinare l'effetto di pioggia e temperatura sul livello del pozzo, separatamente dalla componente stagionale.\n",
        "- ES: se fa caldo allora è estate e quindi il pozzo è secco.Ma noi no, non vogliamo ragionare così!! Questo ragionamento non apporta dati utili in un constesto pratico, anche se è capace di fittare meglio\n",
        "\n",
        "\n",
        "-\n",
        "  ## 2) Data preprocessing (Auser): \n",
        "- 2.1) missing data:\n",
        "- ristretti su certe date\n",
        "- regressione e lasso per trovare temperature e le piogge mancanti \n",
        "- - eliminato una colonna di temperature\n",
        "-\n",
        "- 2.2) Exploratory Data Analysis\n",
        "- 1 con gli anni la correlazione tra i pozzi cambia\n",
        "- 2l'hydrometry è completamente buggata -> non la usiamo\n",
        "- 3 ~correlazione tra i pozzi e varianza, scegliamo il pozzo Cos\n",
        "- 4 Vogliamo determinare un valore ottimale per k per le piogge\n",
        "- Determinare un valore di n coerente(n=10 giorni per la regressione lineare? Più possibilità per la LSTM)\n",
        "- Determinare l'impatto della piggia a seconda del giorno (le piogge recenti sono più o meno importanti rispetto a quelle passate?)\n",
        "-\n",
        "2.3) feature engineering\n",
        "- Feature selection:\n",
        "- Per la pioggia abbiamo 3 considerato tre approcci:\n",
        "- 1) Media non ponderata di tutte le piogge\n",
        "- 2) Nessuna selezione\n",
        "\n",
        "Il problema è che vogliamo selezionare le località indipendentemente dai giorni, quindi possiamo:\n",
        "- fare una media degli n giorni\n",
        "- fare una media ponderata degli n giorni usando i coefficienti trovati nel punto 2.2.4 (ossia prima facciamo la media per località, vediamo il contributo di ogni giorno, otteniamo il weight per quel giorno e lo usiamo per fare una media ponderata per località)\n",
        "- grouped lasso: i giorni che appartengono alla stessa località finiscono nello stesso gruppo.pag.90  § 3.8.4\n",
        "-\n",
        "- 3) media degli ultimi n giorni di pioggia per ogni località e poi effettuare una subset selection sulle località: possiamo usare lo Z-score oppure col crossing over (testare quale sottinsieme massimizza lo score i.e.\"forward stepwise\")\n",
        "- 4) Grouped lasso\n",
        "- Per la temperatura due approcci:\n",
        "- 1) nessuna selezione per la lstm\n",
        "- 2) media non ponderata per la regressione\n",
        "- Per il volume abbiamo scelto di non considerarlo, ma possiamo fare una prova\n",
        "-\n",
        "\n",
        "\n",
        "## 3) MODELS:\n",
        "\n",
        "! Subsampling: abbiamo due possibilità per scegliere train:\n",
        "- Prendere un intervallo temporale distinto dal test: PRO niente leakage CONTRO: dati troppo correlati\n",
        "- Aleatoriamente rispetto alla data: PRO facile da implementare, la dipendenza temporale (per esempio cambiamenti del bacino) viene annullate CONTRO: possibile leakage\n",
        "\n",
        "\n",
        "Scegliamo l'R^2 come metrica della qualità della predizione\n",
        "\n",
        "3.1 Regressione lineare\n",
        "\n",
        "Aggiunte features per piogge degli ultimi d+k giorni\n",
        "Scelto come obiettivo delta_depth invece di depth\n",
        "Aggiunto il giorno dell'anno -> spline ciclica\n",
        "spline naturale per temperatura e profondità del pozzo\n",
        "\n",
        "3.1.2 Lasso\n",
        "Coefficienti scelti con cross validation\n",
        "\n",
        "3.2 Regressione Bilineare\n",
        "non ha funzionato per un cazzo ma proprio no\n",
        "\n",
        "3.3 LSTM\n",
        "a completare, calcola delta invece della altezza finale. Inserisci giorno dell'anno come variabile ciclica\n",
        "\n",
        "3.4 XGBoost\n",
        "a completare \n",
        "\n",
        "\n",
        "## 4) DISCUSSION AND RESULTS \n",
        "\n",
        "Applichiamo i metodi selezionati alle altre falde acquifere in modo automatico\n",
        "\n",
        "Tabella (e grafico) dei valori di R2 per bacino, pozzo e modello impiegato \n",
        "\n"
      ],
      "metadata":{
        
      }
    },
    {
      "cell_type":"markdown",
      "source":[
        "# 2) Preprocessing data"
      ],
      "metadata":{
        
      }
    },
    {
      "cell_type":"markdown",
      "source":[
        "##2.1 Missing data"
      ],
      "metadata":{
        
      }
    },
    {
      "cell_type":"code",
      "source":[
        "Tabella dei missing data"
      ],
      "execution_count":0,
      "outputs":[
        
      ],
      "metadata":{
        
      }
    },
    {
      "cell_type":"code",
      "source":[
        
      ],
      "execution_count":3,
      "outputs":[
        
      ],
      "metadata":{
        
      }
    },
    {
      "cell_type":"markdown",
      "source":[
        "##2.2 Exploratory Data Analysis"
      ],
      "metadata":{
        
      }
    },
    {
      "cell_type":"code",
      "source":[
        
      ],
      "execution_count":null,
      "outputs":[
        
      ],
      "metadata":{
        
      }
    }
  ],
  "metadata":{
    
  },
  "nbformat":4,
  "nbformat_minor":0
}